{
 "cells": [
  {
   "cell_type": "code",
   "execution_count": 2,
   "id": "35f06c78-6fff-41ae-83a3-442dd390ae13",
   "metadata": {},
   "outputs": [],
   "source": [
    "from concurrent.futures import ThreadPoolExecutor\n",
    "\n",
    "from delta import DeltaTable, configure_spark_with_delta_pip\n",
    "from pyspark.sql import SparkSession\n",
    "from pyspark.sql import functions as F"
   ]
  },
  {
   "cell_type": "code",
   "execution_count": 3,
   "id": "9cafebf7-5b1d-4f5a-a79f-dc2e42c0c9b6",
   "metadata": {
    "collapsed": true,
    "jupyter": {
     "outputs_hidden": true
    },
    "tags": []
   },
   "outputs": [
    {
     "name": "stdout",
     "output_type": "stream",
     "text": [
      ":: loading settings :: url = jar:file:/opt/spark/jars/ivy-2.5.0.jar!/org/apache/ivy/core/settings/ivysettings.xml\n"
     ]
    },
    {
     "name": "stderr",
     "output_type": "stream",
     "text": [
      "Ivy Default Cache set to: /home/bruno/.ivy2/cache\n",
      "The jars for the packages stored in: /home/bruno/.ivy2/jars\n",
      "io.delta#delta-core_2.12 added as a dependency\n",
      ":: resolving dependencies :: org.apache.spark#spark-submit-parent-58ebc0b5-07c0-4b80-8428-218a6f55d6e8;1.0\n",
      "\tconfs: [default]\n",
      "\tfound io.delta#delta-core_2.12;2.1.0 in central\n",
      "\tfound io.delta#delta-storage;2.1.0 in central\n",
      "\tfound org.antlr#antlr4-runtime;4.8 in central\n",
      "\tfound org.codehaus.jackson#jackson-core-asl;1.9.13 in central\n",
      ":: resolution report :: resolve 168ms :: artifacts dl 11ms\n",
      "\t:: modules in use:\n",
      "\tio.delta#delta-core_2.12;2.1.0 from central in [default]\n",
      "\tio.delta#delta-storage;2.1.0 from central in [default]\n",
      "\torg.antlr#antlr4-runtime;4.8 from central in [default]\n",
      "\torg.codehaus.jackson#jackson-core-asl;1.9.13 from central in [default]\n",
      "\t---------------------------------------------------------------------\n",
      "\t|                  |            modules            ||   artifacts   |\n",
      "\t|       conf       | number| search|dwnlded|evicted|| number|dwnlded|\n",
      "\t---------------------------------------------------------------------\n",
      "\t|      default     |   4   |   0   |   0   |   0   ||   4   |   0   |\n",
      "\t---------------------------------------------------------------------\n",
      ":: retrieving :: org.apache.spark#spark-submit-parent-58ebc0b5-07c0-4b80-8428-218a6f55d6e8\n",
      "\tconfs: [default]\n",
      "\t0 artifacts copied, 4 already retrieved (0kB/5ms)\n"
     ]
    },
    {
     "name": "stdout",
     "output_type": "stream",
     "text": [
      "22/10/09 23:18:18 WARN NativeCodeLoader: Unable to load native-hadoop library for your platform... using builtin-java classes where applicable\n"
     ]
    },
    {
     "name": "stderr",
     "output_type": "stream",
     "text": [
      "Setting default log level to \"WARN\".\n",
      "To adjust logging level use sc.setLogLevel(newLevel). For SparkR, use setLogLevel(newLevel).\n"
     ]
    },
    {
     "name": "stdout",
     "output_type": "stream",
     "text": [
      "22/10/09 23:18:19 WARN Utils: Service 'SparkUI' could not bind on port 4040. Attempting port 4041.\n"
     ]
    }
   ],
   "source": [
    "# setup spark with delta lake\n",
    "\n",
    "builder = (\n",
    "    SparkSession.builder.appName(\"MyApp\")\n",
    "    .config(\n",
    "        \"spark.sql.extensions\",\n",
    "        \"io.delta.sql.DeltaSparkSessionExtension\",\n",
    "    )\n",
    "    .config(\n",
    "        \"spark.sql.catalog.spark_catalog\",\n",
    "        \"org.apache.spark.sql.delta.catalog.DeltaCatalog\",\n",
    "    )\n",
    ")\n",
    "\n",
    "spark = configure_spark_with_delta_pip(builder).getOrCreate()"
   ]
  },
  {
   "cell_type": "code",
   "execution_count": 4,
   "id": "a735e53e-0d89-44d0-9330-a95640342445",
   "metadata": {
    "collapsed": true,
    "jupyter": {
     "outputs_hidden": true
    },
    "tags": []
   },
   "outputs": [
    {
     "name": "stderr",
     "output_type": "stream",
     "text": [
      "                                                                                \r"
     ]
    }
   ],
   "source": [
    "_data_path = \"./data/concurrency-test\"\n",
    "\n",
    "# create a table with only one column named id, from 0 to 5,\n",
    "# and write it to the disk\n",
    "data = (\n",
    "    spark.range(0, 5)\n",
    "    .withColumn(\"value\", F.col(\"id\"))\n",
    "    .write.format(\"delta\")\n",
    "    .save(_data_path)\n",
    ")"
   ]
  },
  {
   "cell_type": "code",
   "execution_count": 5,
   "id": "2c5e57f2-71e5-4f84-90b1-51cc99786940",
   "metadata": {
    "tags": []
   },
   "outputs": [],
   "source": [
    "# define a function to do some updated on the table\n",
    "\n",
    "def execute_expression(order):\n",
    "\n",
    "    _data_path = \"./data/concurrency-test\"\n",
    "\n",
    "    deltaTable = DeltaTable.forPath(spark, _data_path)\n",
    "\n",
    "    # if it's odd, sum 1\n",
    "    if order % 2:\n",
    "        _expr = F.expr(\"value + 1\")\n",
    "\n",
    "    # if it's even, multiply by 2\n",
    "    else:\n",
    "        _expr = F.expr(\"value * 2\")\n",
    "\n",
    "    _success = False\n",
    "\n",
    "    # concurrent updates will fail, so here they're retried until success\n",
    "    while not _success:\n",
    "\n",
    "        try:\n",
    "\n",
    "            deltaTable.update(\n",
    "                condition=F.expr(\"id == 1\"),\n",
    "                set={\"value\": _expr},\n",
    "            )\n",
    "\n",
    "            print(f\"success, order {order}\")\n",
    "\n",
    "            _success = True\n",
    "\n",
    "        except Exception:\n",
    "            pass"
   ]
  },
  {
   "cell_type": "code",
   "execution_count": 6,
   "id": "f1a3ed04-ae53-4335-98ec-e1b692e61ddb",
   "metadata": {},
   "outputs": [
    {
     "name": "stdout",
     "output_type": "stream",
     "text": [
      "success, order 7\n",
      "success, order 9\n",
      "success, order 4\n",
      "success, order 2\n",
      "success, order 8\n",
      "success, order 6\n",
      "success, order 5\n",
      "success, order 0\n",
      "success, order 3\n",
      "success, order 1\n"
     ]
    }
   ],
   "source": [
    "# executes the function 10 times, simultaneously\n",
    "\n",
    "executor = ThreadPoolExecutor(max_workers=10)\n",
    "\n",
    "for order in range(10):\n",
    "\n",
    "    executor.submit(execute_expression, order)"
   ]
  },
  {
   "cell_type": "code",
   "execution_count": 7,
   "id": "c14ce4d6-1a7f-4040-a474-f65973e7733c",
   "metadata": {},
   "outputs": [
    {
     "name": "stdout",
     "output_type": "stream",
     "text": [
      "+---+-----+\n",
      "|id |value|\n",
      "+---+-----+\n",
      "|0  |0    |\n",
      "|1  |100  |\n",
      "|2  |2    |\n",
      "|3  |3    |\n",
      "|4  |4    |\n",
      "+---+-----+\n",
      "\n"
     ]
    }
   ],
   "source": [
    "# reads the results\n",
    "\n",
    "deltaTable = DeltaTable.forPath(spark, _data_path)\n",
    "deltaTable.toDF().orderBy(\"id\").show(100, False)"
   ]
  },
  {
   "cell_type": "code",
   "execution_count": 8,
   "id": "acb2399c-6ed3-4c64-82fc-df00aecb2f69",
   "metadata": {},
   "outputs": [
    {
     "data": {
      "text/plain": [
       "63"
      ]
     },
     "execution_count": 8,
     "metadata": {},
     "output_type": "execute_result"
    }
   ],
   "source": [
    "# expected value is 63\n",
    "\n",
    "x = 1\n",
    "\n",
    "for order in range(10):\n",
    "\n",
    "    if order % 2:\n",
    "        x += 1\n",
    "\n",
    "    else:\n",
    "        x *= 2\n",
    "x"
   ]
  }
 ],
 "metadata": {
  "kernelspec": {
   "display_name": "Python 3 (ipykernel)",
   "language": "python",
   "name": "python3"
  },
  "language_info": {
   "codemirror_mode": {
    "name": "ipython",
    "version": 3
   },
   "file_extension": ".py",
   "mimetype": "text/x-python",
   "name": "python",
   "nbconvert_exporter": "python",
   "pygments_lexer": "ipython3",
   "version": "3.10.7"
  }
 },
 "nbformat": 4,
 "nbformat_minor": 5
}
